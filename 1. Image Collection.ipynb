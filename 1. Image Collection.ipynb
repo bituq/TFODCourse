{
 "cells": [
  {
   "cell_type": "markdown",
   "metadata": {},
   "source": [
    "# 1. Import Dependencies"
   ]
  },
  {
   "cell_type": "code",
   "execution_count": 1,
   "metadata": {},
   "outputs": [
    {
     "name": "stdout",
     "output_type": "stream",
     "text": [
      "Collecting opencv-python\n",
      "  Using cached opencv_python-4.8.0.74-cp37-abi3-win_amd64.whl (38.1 MB)\n",
      "Collecting numpy>=1.21.2 (from opencv-python)\n",
      "  Using cached numpy-1.25.1-cp310-cp310-win_amd64.whl (15.0 MB)\n",
      "Installing collected packages: numpy, opencv-python\n",
      "Successfully installed numpy-1.25.1 opencv-python-4.8.0.74\n"
     ]
    }
   ],
   "source": [
    "!pip install opencv-python"
   ]
  },
  {
   "cell_type": "code",
   "execution_count": 3,
   "metadata": {},
   "outputs": [],
   "source": [
    "# Import opencv\n",
    "import cv2 \n",
    "\n",
    "# Import uuid\n",
    "import uuid\n",
    "\n",
    "# Import Operating System\n",
    "import os\n",
    "\n",
    "# Import time\n",
    "import time"
   ]
  },
  {
   "cell_type": "markdown",
   "metadata": {},
   "source": [
    "# 2. Define Images to Collect"
   ]
  },
  {
   "cell_type": "code",
   "execution_count": 4,
   "metadata": {},
   "outputs": [],
   "source": [
    "labels = ['1', '2', '3', '4', '5', '6']\n",
    "number_imgs = 5"
   ]
  },
  {
   "cell_type": "markdown",
   "metadata": {},
   "source": [
    "# 3. Setup Folders "
   ]
  },
  {
   "cell_type": "code",
   "execution_count": 5,
   "metadata": {},
   "outputs": [],
   "source": [
    "IMAGES_PATH = os.path.join('Tensorflow', 'workspace', 'images', 'collectedimages')"
   ]
  },
  {
   "cell_type": "code",
   "execution_count": 5,
   "metadata": {},
   "outputs": [],
   "source": [
    "if not os.path.exists(IMAGES_PATH):\n",
    "    if os.name == 'posix':\n",
    "        !mkdir -p {IMAGES_PATH}\n",
    "    if os.name == 'nt':\n",
    "         !mkdir {IMAGES_PATH}\n",
    "for label in labels:\n",
    "    path = os.path.join(IMAGES_PATH, label)\n",
    "    if not os.path.exists(path):\n",
    "        !mkdir {path}"
   ]
  },
  {
   "cell_type": "markdown",
   "metadata": {},
   "source": [
    "# 4. Capture Images"
   ]
  },
  {
   "cell_type": "code",
   "execution_count": null,
   "metadata": {},
   "outputs": [],
   "source": []
  },
  {
   "cell_type": "markdown",
   "metadata": {},
   "source": [
    "# 5. Image Labelling"
   ]
  },
  {
   "cell_type": "code",
   "execution_count": 1,
   "metadata": {},
   "outputs": [
    {
     "name": "stdout",
     "output_type": "stream",
     "text": [
      "Collecting pyqt5\n",
      "  Downloading PyQt5-5.15.9-cp37-abi3-win_amd64.whl (6.8 MB)\n",
      "                                              0.0/6.8 MB ? eta -:--:--\n",
      "     --                                       0.4/6.8 MB 7.4 MB/s eta 0:00:01\n",
      "     ----                                     0.8/6.8 MB 10.0 MB/s eta 0:00:01\n",
      "     ------                                   1.1/6.8 MB 8.8 MB/s eta 0:00:01\n",
      "     ---------                                1.6/6.8 MB 9.2 MB/s eta 0:00:01\n",
      "     -----------                              2.0/6.8 MB 9.2 MB/s eta 0:00:01\n",
      "     --------------                           2.4/6.8 MB 9.1 MB/s eta 0:00:01\n",
      "     ----------------                         2.9/6.8 MB 9.1 MB/s eta 0:00:01\n",
      "     -------------------                      3.3/6.8 MB 9.0 MB/s eta 0:00:01\n",
      "     ---------------------                    3.7/6.8 MB 8.7 MB/s eta 0:00:01\n",
      "     -----------------------                  4.1/6.8 MB 8.7 MB/s eta 0:00:01\n",
      "     --------------------------               4.5/6.8 MB 9.0 MB/s eta 0:00:01\n",
      "     ----------------------------             4.9/6.8 MB 9.0 MB/s eta 0:00:01\n",
      "     -------------------------------          5.5/6.8 MB 8.9 MB/s eta 0:00:01\n",
      "     ----------------------------------       5.9/6.8 MB 9.2 MB/s eta 0:00:01\n",
      "     -------------------------------------    6.4/6.8 MB 9.3 MB/s eta 0:00:01\n",
      "     ---------------------------------------  6.8/6.8 MB 9.2 MB/s eta 0:00:01\n",
      "     ---------------------------------------- 6.8/6.8 MB 8.9 MB/s eta 0:00:00\n",
      "Requirement already satisfied: lxml in c:\\users\\dnoor\\repo\\tfdice\\tfdice\\lib\\site-packages (4.9.3)\n",
      "Collecting PyQt5-sip<13,>=12.11 (from pyqt5)\n",
      "  Downloading PyQt5_sip-12.12.1-cp310-cp310-win_amd64.whl (78 kB)\n",
      "                                              0.0/78.4 kB ? eta -:--:--\n",
      "     ---------------------------------------- 78.4/78.4 kB 4.5 MB/s eta 0:00:00\n",
      "Collecting PyQt5-Qt5>=5.15.2 (from pyqt5)\n",
      "  Downloading PyQt5_Qt5-5.15.2-py3-none-win_amd64.whl (50.1 MB)\n",
      "                                              0.0/50.1 MB ? eta -:--:--\n",
      "                                              0.4/50.1 MB 11.6 MB/s eta 0:00:05\n",
      "                                              0.8/50.1 MB 10.4 MB/s eta 0:00:05\n",
      "     -                                        1.3/50.1 MB 10.0 MB/s eta 0:00:05\n",
      "     -                                        1.7/50.1 MB 10.1 MB/s eta 0:00:05\n",
      "     -                                        2.2/50.1 MB 9.9 MB/s eta 0:00:05\n",
      "     --                                       2.6/50.1 MB 9.8 MB/s eta 0:00:05\n",
      "     --                                       3.1/50.1 MB 9.8 MB/s eta 0:00:05\n",
      "     --                                       3.5/50.1 MB 9.6 MB/s eta 0:00:05\n",
      "     ---                                      3.9/50.1 MB 9.6 MB/s eta 0:00:05\n",
      "     ---                                      4.3/50.1 MB 9.6 MB/s eta 0:00:05\n",
      "     ---                                      4.8/50.1 MB 9.6 MB/s eta 0:00:05\n",
      "     ----                                     5.2/50.1 MB 9.6 MB/s eta 0:00:05\n",
      "     ----                                     5.7/50.1 MB 9.5 MB/s eta 0:00:05\n",
      "     ----                                     6.2/50.1 MB 9.6 MB/s eta 0:00:05\n",
      "     -----                                    6.6/50.1 MB 9.6 MB/s eta 0:00:05\n",
      "     -----                                    7.1/50.1 MB 9.6 MB/s eta 0:00:05\n",
      "     ------                                   7.5/50.1 MB 9.6 MB/s eta 0:00:05\n",
      "     ------                                   7.9/50.1 MB 9.6 MB/s eta 0:00:05\n",
      "     ------                                   8.4/50.1 MB 9.6 MB/s eta 0:00:05\n",
      "     -------                                  8.9/50.1 MB 9.6 MB/s eta 0:00:05\n",
      "     -------                                  9.2/50.1 MB 9.5 MB/s eta 0:00:05\n",
      "     -------                                  9.8/50.1 MB 9.6 MB/s eta 0:00:05\n",
      "     --------                                 10.2/50.1 MB 9.6 MB/s eta 0:00:05\n",
      "     --------                                 10.6/50.1 MB 9.6 MB/s eta 0:00:05\n",
      "     --------                                 11.0/50.1 MB 9.5 MB/s eta 0:00:05\n",
      "     ---------                                11.4/50.1 MB 9.5 MB/s eta 0:00:05\n",
      "     ---------                                11.8/50.1 MB 9.5 MB/s eta 0:00:05\n",
      "     ---------                                12.3/50.1 MB 9.4 MB/s eta 0:00:05\n",
      "     ----------                               12.6/50.1 MB 9.4 MB/s eta 0:00:04\n",
      "     ----------                               13.1/50.1 MB 9.4 MB/s eta 0:00:04\n",
      "     ----------                               13.5/50.1 MB 9.2 MB/s eta 0:00:04\n",
      "     -----------                              13.9/50.1 MB 9.4 MB/s eta 0:00:04\n",
      "     -----------                              14.3/50.1 MB 9.2 MB/s eta 0:00:04\n",
      "     -----------                              14.7/50.1 MB 9.2 MB/s eta 0:00:04\n",
      "     ------------                             15.1/50.1 MB 9.2 MB/s eta 0:00:04\n",
      "     ------------                             15.6/50.1 MB 9.2 MB/s eta 0:00:04\n",
      "     ------------                             16.1/50.1 MB 9.2 MB/s eta 0:00:04\n",
      "     -------------                            16.5/50.1 MB 9.2 MB/s eta 0:00:04\n",
      "     -------------                            17.0/50.1 MB 9.2 MB/s eta 0:00:04\n",
      "     -------------                            17.4/50.1 MB 9.2 MB/s eta 0:00:04\n",
      "     --------------                           17.9/50.1 MB 9.2 MB/s eta 0:00:04\n",
      "     --------------                           18.4/50.1 MB 9.4 MB/s eta 0:00:04\n",
      "     ---------------                          18.9/50.1 MB 9.4 MB/s eta 0:00:04\n",
      "     ---------------                          19.4/50.1 MB 9.4 MB/s eta 0:00:04\n",
      "     ---------------                          19.8/50.1 MB 9.4 MB/s eta 0:00:04\n",
      "     ----------------                         20.3/50.1 MB 9.4 MB/s eta 0:00:04\n",
      "     ----------------                         20.7/50.1 MB 9.5 MB/s eta 0:00:04\n",
      "     ----------------                         21.1/50.1 MB 9.5 MB/s eta 0:00:04\n",
      "     -----------------                        21.6/50.1 MB 9.4 MB/s eta 0:00:04\n",
      "     -----------------                        22.0/50.1 MB 9.5 MB/s eta 0:00:03\n",
      "     -----------------                        22.4/50.1 MB 9.5 MB/s eta 0:00:03\n",
      "     ------------------                       22.8/50.1 MB 9.5 MB/s eta 0:00:03\n",
      "     ------------------                       23.2/50.1 MB 9.4 MB/s eta 0:00:03\n",
      "     ------------------                       23.7/50.1 MB 9.4 MB/s eta 0:00:03\n",
      "     -------------------                      24.1/50.1 MB 9.4 MB/s eta 0:00:03\n",
      "     -------------------                      24.5/50.1 MB 9.5 MB/s eta 0:00:03\n",
      "     -------------------                      24.9/50.1 MB 9.4 MB/s eta 0:00:03\n",
      "     --------------------                     25.4/50.1 MB 9.5 MB/s eta 0:00:03\n",
      "     --------------------                     25.7/50.1 MB 9.4 MB/s eta 0:00:03\n",
      "     --------------------                     26.2/50.1 MB 9.4 MB/s eta 0:00:03\n",
      "     ---------------------                    26.6/50.1 MB 9.4 MB/s eta 0:00:03\n",
      "     ---------------------                    27.0/50.1 MB 9.4 MB/s eta 0:00:03\n",
      "     ---------------------                    27.4/50.1 MB 9.2 MB/s eta 0:00:03\n",
      "     ----------------------                   27.8/50.1 MB 9.2 MB/s eta 0:00:03\n",
      "     ----------------------                   28.3/50.1 MB 9.2 MB/s eta 0:00:03\n",
      "     ----------------------                   28.7/50.1 MB 9.1 MB/s eta 0:00:03\n",
      "     -----------------------                  29.1/50.1 MB 9.2 MB/s eta 0:00:03\n",
      "     -----------------------                  29.6/50.1 MB 9.1 MB/s eta 0:00:03\n",
      "     ------------------------                 30.1/50.1 MB 9.1 MB/s eta 0:00:03\n",
      "     ------------------------                 30.5/50.1 MB 9.2 MB/s eta 0:00:03\n",
      "     ------------------------                 31.0/50.1 MB 9.1 MB/s eta 0:00:03\n",
      "     -------------------------                31.4/50.1 MB 9.1 MB/s eta 0:00:03\n",
      "     -------------------------                31.9/50.1 MB 9.4 MB/s eta 0:00:02\n",
      "     -------------------------                32.4/50.1 MB 9.4 MB/s eta 0:00:02\n",
      "     --------------------------               32.8/50.1 MB 9.2 MB/s eta 0:00:02\n",
      "     --------------------------               33.3/50.1 MB 9.5 MB/s eta 0:00:02\n",
      "     --------------------------               33.8/50.1 MB 9.5 MB/s eta 0:00:02\n",
      "     ---------------------------              34.2/50.1 MB 9.4 MB/s eta 0:00:02\n",
      "     ---------------------------              34.6/50.1 MB 9.5 MB/s eta 0:00:02\n",
      "     ----------------------------             35.1/50.1 MB 9.5 MB/s eta 0:00:02\n",
      "     ----------------------------             35.5/50.1 MB 9.4 MB/s eta 0:00:02\n",
      "     ----------------------------             35.9/50.1 MB 9.5 MB/s eta 0:00:02\n",
      "     -----------------------------            36.3/50.1 MB 9.5 MB/s eta 0:00:02\n",
      "     -----------------------------            36.7/50.1 MB 9.5 MB/s eta 0:00:02\n",
      "     -----------------------------            37.1/50.1 MB 9.5 MB/s eta 0:00:02\n",
      "     -----------------------------            37.5/50.1 MB 9.5 MB/s eta 0:00:02\n",
      "     ------------------------------           37.9/50.1 MB 9.5 MB/s eta 0:00:02\n",
      "     ------------------------------           38.4/50.1 MB 9.5 MB/s eta 0:00:02\n",
      "     ------------------------------           38.8/50.1 MB 9.5 MB/s eta 0:00:02\n",
      "     -------------------------------          39.2/50.1 MB 9.5 MB/s eta 0:00:02\n",
      "     -------------------------------          39.7/50.1 MB 9.5 MB/s eta 0:00:02\n",
      "     --------------------------------         40.2/50.1 MB 9.5 MB/s eta 0:00:02\n",
      "     --------------------------------         40.5/50.1 MB 9.4 MB/s eta 0:00:02\n",
      "     --------------------------------         40.9/50.1 MB 9.4 MB/s eta 0:00:01\n",
      "     ---------------------------------        41.4/50.1 MB 9.4 MB/s eta 0:00:01\n",
      "     ---------------------------------        41.9/50.1 MB 9.4 MB/s eta 0:00:01\n",
      "     ---------------------------------        42.3/50.1 MB 9.2 MB/s eta 0:00:01\n",
      "     ----------------------------------       42.7/50.1 MB 9.2 MB/s eta 0:00:01\n",
      "     ----------------------------------       43.1/50.1 MB 9.2 MB/s eta 0:00:01\n",
      "     ----------------------------------       43.6/50.1 MB 9.2 MB/s eta 0:00:01\n",
      "     -----------------------------------      43.9/50.1 MB 9.1 MB/s eta 0:00:01\n",
      "     -----------------------------------      44.4/50.1 MB 9.2 MB/s eta 0:00:01\n",
      "     -----------------------------------      44.8/50.1 MB 9.1 MB/s eta 0:00:01\n",
      "     ------------------------------------     45.3/50.1 MB 9.2 MB/s eta 0:00:01\n",
      "     ------------------------------------     45.7/50.1 MB 9.2 MB/s eta 0:00:01\n",
      "     ------------------------------------     46.1/50.1 MB 9.2 MB/s eta 0:00:01\n",
      "     -------------------------------------    46.5/50.1 MB 9.1 MB/s eta 0:00:01\n",
      "     -------------------------------------    47.0/50.1 MB 9.2 MB/s eta 0:00:01\n",
      "     -------------------------------------    47.5/50.1 MB 9.2 MB/s eta 0:00:01\n",
      "     --------------------------------------   47.9/50.1 MB 9.5 MB/s eta 0:00:01\n",
      "     --------------------------------------   48.4/50.1 MB 9.4 MB/s eta 0:00:01\n",
      "     --------------------------------------   48.8/50.1 MB 9.5 MB/s eta 0:00:01\n",
      "     ---------------------------------------  49.3/50.1 MB 9.4 MB/s eta 0:00:01\n",
      "     ---------------------------------------  49.7/50.1 MB 9.4 MB/s eta 0:00:01\n",
      "     ---------------------------------------  50.1/50.1 MB 9.4 MB/s eta 0:00:01\n",
      "     ---------------------------------------  50.1/50.1 MB 9.4 MB/s eta 0:00:01\n",
      "     ---------------------------------------  50.1/50.1 MB 9.4 MB/s eta 0:00:01\n",
      "     ---------------------------------------- 50.1/50.1 MB 8.3 MB/s eta 0:00:00\n",
      "Installing collected packages: PyQt5-Qt5, PyQt5-sip, pyqt5\n",
      "Successfully installed PyQt5-Qt5-5.15.2 PyQt5-sip-12.12.1 pyqt5-5.15.9\n"
     ]
    }
   ],
   "source": [
    "!pip install --upgrade pyqt5 lxml"
   ]
  },
  {
   "cell_type": "code",
   "execution_count": 6,
   "metadata": {},
   "outputs": [],
   "source": [
    "LABELIMG_PATH = os.path.join('Tensorflow', 'labelimg')"
   ]
  },
  {
   "cell_type": "code",
   "execution_count": null,
   "metadata": {},
   "outputs": [],
   "source": [
    "if not os.path.exists(LABELIMG_PATH):\n",
    "    !mkdir {LABELIMG_PATH}\n",
    "    !git clone https://github.com/tzutalin/labelImg {LABELIMG_PATH}"
   ]
  },
  {
   "cell_type": "code",
   "execution_count": null,
   "metadata": {},
   "outputs": [],
   "source": [
    "if os.name == 'posix':\n",
    "    !make qt5py3\n",
    "if os.name =='nt':\n",
    "    !cd {LABELIMG_PATH} && pyrcc5 -o libs/resources.py resources.qrc"
   ]
  },
  {
   "cell_type": "code",
   "execution_count": null,
   "metadata": {},
   "outputs": [],
   "source": [
    "!cd {LABELIMG_PATH} && python labelImg.py"
   ]
  },
  {
   "cell_type": "markdown",
   "metadata": {},
   "source": [
    "# 6. Move them into a Training and Testing Partition"
   ]
  },
  {
   "cell_type": "markdown",
   "metadata": {},
   "source": [
    "# OPTIONAL - 7. Compress them for Colab Training"
   ]
  },
  {
   "cell_type": "code",
   "execution_count": 9,
   "metadata": {},
   "outputs": [],
   "source": [
    "TRAIN_PATH = os.path.join('Tensorflow', 'workspace', 'images', 'train')\n",
    "TEST_PATH = os.path.join('Tensorflow', 'workspace', 'images', 'test')\n",
    "ARCHIVE_PATH = os.path.join('Tensorflow', 'workspace', 'images', 'archive.tar.gz')"
   ]
  },
  {
   "cell_type": "code",
   "execution_count": 10,
   "metadata": {},
   "outputs": [],
   "source": [
    "!tar -czf {ARCHIVE_PATH} {TRAIN_PATH} {TEST_PATH}"
   ]
  },
  {
   "cell_type": "code",
   "execution_count": null,
   "metadata": {},
   "outputs": [],
   "source": []
  }
 ],
 "metadata": {
  "kernelspec": {
   "display_name": "tfdice",
   "language": "python",
   "name": "python3"
  },
  "language_info": {
   "codemirror_mode": {
    "name": "ipython",
    "version": 3
   },
   "file_extension": ".py",
   "mimetype": "text/x-python",
   "name": "python",
   "nbconvert_exporter": "python",
   "pygments_lexer": "ipython3",
   "version": "3.10.0"
  }
 },
 "nbformat": 4,
 "nbformat_minor": 2
}
